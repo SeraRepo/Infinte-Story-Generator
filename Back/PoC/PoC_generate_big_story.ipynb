{
  "nbformat": 4,
  "nbformat_minor": 0,
  "metadata": {
    "colab": {
      "name": "PoC_generate_big_story.ipynb",
      "provenance": [],
      "collapsed_sections": []
    },
    "kernelspec": {
      "name": "python3",
      "display_name": "Python 3"
    },
    "language_info": {
      "name": "python"
    },
    "accelerator": "GPU",
    "gpuClass": "standard"
  },
  "cells": [
    {
      "cell_type": "code",
      "source": [
        "!pip install git+https://github.com/huggingface/transformers.git"
      ],
      "metadata": {
        "colab": {
          "base_uri": "https://localhost:8080/"
        },
        "id": "uAxlWrYMTt7q",
        "outputId": "8e29dd95-68bd-4170-a879-5298c5b347ab"
      },
      "execution_count": 3,
      "outputs": [
        {
          "output_type": "stream",
          "name": "stdout",
          "text": [
            "Looking in indexes: https://pypi.org/simple, https://us-python.pkg.dev/colab-wheels/public/simple/\n",
            "Collecting git+https://github.com/huggingface/transformers.git\n",
            "  Cloning https://github.com/huggingface/transformers.git to /tmp/pip-req-build-qg4m3i2b\n",
            "  Running command git clone -q https://github.com/huggingface/transformers.git /tmp/pip-req-build-qg4m3i2b\n",
            "  Installing build dependencies ... \u001b[?25l\u001b[?25hdone\n",
            "  Getting requirements to build wheel ... \u001b[?25l\u001b[?25hdone\n",
            "    Preparing wheel metadata ... \u001b[?25l\u001b[?25hdone\n",
            "Requirement already satisfied: tqdm>=4.27 in /usr/local/lib/python3.7/dist-packages (from transformers==4.21.0.dev0) (4.64.0)\n",
            "Requirement already satisfied: requests in /usr/local/lib/python3.7/dist-packages (from transformers==4.21.0.dev0) (2.23.0)\n",
            "Requirement already satisfied: packaging>=20.0 in /usr/local/lib/python3.7/dist-packages (from transformers==4.21.0.dev0) (21.3)\n",
            "Requirement already satisfied: importlib-metadata in /usr/local/lib/python3.7/dist-packages (from transformers==4.21.0.dev0) (4.12.0)\n",
            "Requirement already satisfied: pyyaml>=5.1 in /usr/local/lib/python3.7/dist-packages (from transformers==4.21.0.dev0) (6.0)\n",
            "Requirement already satisfied: tokenizers!=0.11.3,<0.13,>=0.11.1 in /usr/local/lib/python3.7/dist-packages (from transformers==4.21.0.dev0) (0.12.1)\n",
            "Requirement already satisfied: numpy>=1.17 in /usr/local/lib/python3.7/dist-packages (from transformers==4.21.0.dev0) (1.21.6)\n",
            "Requirement already satisfied: regex!=2019.12.17 in /usr/local/lib/python3.7/dist-packages (from transformers==4.21.0.dev0) (2022.6.2)\n",
            "Requirement already satisfied: huggingface-hub<1.0,>=0.1.0 in /usr/local/lib/python3.7/dist-packages (from transformers==4.21.0.dev0) (0.8.1)\n",
            "Requirement already satisfied: filelock in /usr/local/lib/python3.7/dist-packages (from transformers==4.21.0.dev0) (3.7.1)\n",
            "Requirement already satisfied: typing-extensions>=3.7.4.3 in /usr/local/lib/python3.7/dist-packages (from huggingface-hub<1.0,>=0.1.0->transformers==4.21.0.dev0) (4.1.1)\n",
            "Requirement already satisfied: pyparsing!=3.0.5,>=2.0.2 in /usr/local/lib/python3.7/dist-packages (from packaging>=20.0->transformers==4.21.0.dev0) (3.0.9)\n",
            "Requirement already satisfied: zipp>=0.5 in /usr/local/lib/python3.7/dist-packages (from importlib-metadata->transformers==4.21.0.dev0) (3.8.1)\n",
            "Requirement already satisfied: urllib3!=1.25.0,!=1.25.1,<1.26,>=1.21.1 in /usr/local/lib/python3.7/dist-packages (from requests->transformers==4.21.0.dev0) (1.24.3)\n",
            "Requirement already satisfied: chardet<4,>=3.0.2 in /usr/local/lib/python3.7/dist-packages (from requests->transformers==4.21.0.dev0) (3.0.4)\n",
            "Requirement already satisfied: certifi>=2017.4.17 in /usr/local/lib/python3.7/dist-packages (from requests->transformers==4.21.0.dev0) (2022.6.15)\n",
            "Requirement already satisfied: idna<3,>=2.5 in /usr/local/lib/python3.7/dist-packages (from requests->transformers==4.21.0.dev0) (2.10)\n"
          ]
        }
      ]
    },
    {
      "cell_type": "code",
      "execution_count": 4,
      "metadata": {
        "id": "VRFx5Ok9TC4W",
        "colab": {
          "base_uri": "https://localhost:8080/"
        },
        "outputId": "ab1392bd-7dcd-4d5b-c389-73dee1432c0a"
      },
      "outputs": [
        {
          "output_type": "execute_result",
          "data": {
            "text/plain": [
              "True"
            ]
          },
          "metadata": {},
          "execution_count": 4
        }
      ],
      "source": [
        "from transformers import pipeline, AutoTokenizer, AutoModelForCausalLM\n",
        "import torch\n",
        "torch.cuda.is_available()"
      ]
    },
    {
      "cell_type": "code",
      "source": [
        "device = \"cuda:0\" if torch.cuda.is_available() else \"cpu\"\n",
        "print(device)"
      ],
      "metadata": {
        "colab": {
          "base_uri": "https://localhost:8080/"
        },
        "id": "gcoOi_mWcCY2",
        "outputId": "49f23e36-12b2-40e9-b6e9-4b538cf19b3e"
      },
      "execution_count": 5,
      "outputs": [
        {
          "output_type": "stream",
          "name": "stdout",
          "text": [
            "cuda:0\n"
          ]
        }
      ]
    },
    {
      "cell_type": "code",
      "source": [
        "models = {\n",
        "    'EleutherAI/gpt-neo-125M': 'EleutherAI/gpt-neo-125M',\n",
        "    \"EleutherAI/gpt-neo-1.3B\": \"EleutherAI/gpt-neo-1.3B\",\n",
        "    \"KoboldAI/fairseq-dense-1.3B\": \"KoboldAI/fairseq-dense-1.3B\",\n",
        "    \"2.7\": \"KoboldAI/fairseq-dense-2.7B-Nerys\"\n",
        "}\n",
        "chosen_model = \"EleutherAI/gpt-neo-1.3B\""
      ],
      "metadata": {
        "id": "qDb7YiEBwG0j"
      },
      "execution_count": 35,
      "outputs": []
    },
    {
      "cell_type": "code",
      "source": [
        "tokenizer = AutoTokenizer.from_pretrained(chosen_model)"
      ],
      "metadata": {
        "id": "nsUwVWwfcKF0"
      },
      "execution_count": 36,
      "outputs": []
    },
    {
      "cell_type": "code",
      "source": [
        "# Download model\n",
        "model = AutoModelForCausalLM.from_pretrained(chosen_model).to(device)"
      ],
      "metadata": {
        "id": "6ZYREqjzT1FK"
      },
      "execution_count": null,
      "outputs": []
    },
    {
      "cell_type": "code",
      "source": [
        "# Load model to device:\n",
        "\n",
        "# model = model.to(device)"
      ],
      "metadata": {
        "id": "hDNgysrQdvlI"
      },
      "execution_count": null,
      "outputs": []
    },
    {
      "cell_type": "code",
      "source": [
        "prompt = \"Vyse and Aika are attacking a valuan military transport ship.\"\n",
        "world_info = [\n",
        "              \"Valua is the capital city of the Valuan empire.\",\n",
        "              \"Vyse and Aika are pirates who only attack military targets.\",\n",
        "]\n",
        "genres = [\n",
        "          \"Pirate\"\n",
        "]\n",
        "tokens_to_feed = 200\n",
        "tokens_to_generate = 50\n",
        "story_size = 1500"
      ],
      "metadata": {
        "id": "I7ELXXS8UGwJ"
      },
      "execution_count": null,
      "outputs": []
    },
    {
      "cell_type": "code",
      "source": [
        "def generate_text(prompt, tokens_to_generate, tokens_to_feed):\n",
        "  input = \"\"\n",
        "  \n",
        "  input += prompt\n",
        "  input_ids = tokenizer.encode(input, return_tensors=\"pt\").to(device)\n",
        "  print('input: ', input)\n",
        "  print(tokens_to_generate+tokens_to_feed)\n",
        "  gen_tokens = model.generate(\n",
        "    input_ids,\n",
        "    do_sample=True,\n",
        "    temperature=0.9,\n",
        "    max_length=tokens_to_generate+tokens_to_feed,\n",
        "  )\n",
        "  gen_text = tokenizer.batch_decode(gen_tokens)[0]\n",
        "  print('gen_text', gen_text)\n",
        "  print(\"---------------\")\n",
        "  return gen_text\n",
        "  "
      ],
      "metadata": {
        "id": "RvFiLImJUQUw"
      },
      "execution_count": null,
      "outputs": []
    },
    {
      "cell_type": "code",
      "source": [
        "def generate_story(prompt, world_info, genres, tokens_to_feed, tokens_to_generate, story_size):\n",
        "  story = \"\"\n",
        "  first_input = \"\"\n",
        "  rounds = story_size / tokens_to_generate\n",
        "  rounds = 5\n",
        "  round = 0\n",
        "  while round < rounds:\n",
        "    input = \"\"\n",
        "    if first_input == \"\":\n",
        "      print(\"setup, len(genres):\", len(genres), \" len(world_info): \", len(world_info))\n",
        "      if len(genres) > 0:\n",
        "        for genre in genres:\n",
        "          input += genre+\". \"\n",
        "      if len(world_info) > 0:\n",
        "        for info in world_info:\n",
        "          input += info+\" \"\n",
        "      input += story\n",
        "      first_input = input\n",
        "    else:\n",
        "      if len(genres) > 0:\n",
        "        for genre in genres:\n",
        "          input += genre+\" \"\n",
        "      if len(world_info) > 0:\n",
        "        for info in world_info:\n",
        "          input += info+\" \"\n",
        "      input += story[len(story) - 200 : len(story)]\n",
        "\n",
        "    generated_text = generate_text(input, tokens_to_generate, tokens_to_feed)\n",
        "    story += generated_text[len(input) : len(generated_text)]\n",
        "    round += 1\n",
        "  return first_input + \" \" + story"
      ],
      "metadata": {
        "id": "Ow28zAq2WLCv"
      },
      "execution_count": null,
      "outputs": []
    },
    {
      "cell_type": "code",
      "source": [
        "story = generate_story(prompt, world_info, genres, tokens_to_feed, tokens_to_generate, story_size)\n",
        "print(\"Full story: \")\n",
        "print(story)"
      ],
      "metadata": {
        "id": "GWZQGPm1aUub"
      },
      "execution_count": null,
      "outputs": []
    }
  ]
}